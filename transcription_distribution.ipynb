{
 "cells": [
  {
   "cell_type": "code",
   "execution_count": 1,
   "metadata": {},
   "outputs": [],
   "source": [
    "# Analysis of transcription status of an herbarium collection\n",
    "# Compares total occurrence records, records with images, and records missing key data\n",
    "# Reads data from a Darwin Core Archive\n",
    "\n",
    "import datetime\n",
    "\n",
    "import pandas as pd\n",
    "import numpy as np\n",
    "import matplotlib.pyplot as plt\n",
    "import seaborn as sns"
   ]
  },
  {
   "cell_type": "code",
   "execution_count": 2,
   "metadata": {},
   "outputs": [],
   "source": [
    "# Set up constants\n",
    "#COLLECTION_CODE = 'BRIT'\n",
    "#COLLECTION_CODE = 'VDB'\n",
    "COLLECTION_CODE = 'NLU'\n",
    "# Collection prefix is the string that prepends the digits in a catalogNumber\n",
    "#COLLECTION_PREFIX = 'BRIT'\n",
    "COLLECTION_PREFIX = 'NLU'\n",
    "DwC_ARCHIVE_PATH = COLLECTION_CODE + '-DwC_Archive/'\n",
    "DATE = datetime.datetime.today().strftime(\"%Y-%m-%d\")"
   ]
  },
  {
   "cell_type": "code",
   "execution_count": 3,
   "metadata": {},
   "outputs": [],
   "source": [
    "# load the occurrences file from a Darwin Core Archive\n",
    "df_occurrences = pd.read_csv(DwC_ARCHIVE_PATH + \"occurrences.csv\", low_memory=False)\n",
    "# load the images file from a Darwin Core Archive\n",
    "df_images = pd.read_csv(DwC_ARCHIVE_PATH + \"images.csv\", low_memory=False)"
   ]
  },
  {
   "cell_type": "code",
   "execution_count": 4,
   "metadata": {},
   "outputs": [],
   "source": [
    "# Merge the occurrence and image records\n",
    "df_merged = pd.merge(df_occurrences, df_images, how='left', left_on='id', right_on='coreid')"
   ]
  },
  {
   "cell_type": "code",
   "execution_count": 5,
   "metadata": {},
   "outputs": [
    {
     "data": {
      "text/plain": [
       "(382685, 104)"
      ]
     },
     "execution_count": 5,
     "metadata": {},
     "output_type": "execute_result"
    }
   ],
   "source": [
    "# Make sure the dataset has the number of row and columns you expect\n",
    "df_merged.shape"
   ]
  },
  {
   "cell_type": "code",
   "execution_count": 6,
   "metadata": {},
   "outputs": [
    {
     "data": {
      "text/plain": [
       "(0, 104)"
      ]
     },
     "execution_count": 6,
     "metadata": {},
     "output_type": "execute_result"
    }
   ],
   "source": [
    "# Check for duplicates\n",
    "# This will occur when there is more than one image per occurrence\n",
    "df_dups = df_merged[df_merged.duplicated(['id'])]\n",
    "df_dups.shape"
   ]
  },
  {
   "cell_type": "code",
   "execution_count": 7,
   "metadata": {},
   "outputs": [],
   "source": [
    "# Save dups if desired\n",
    "#df_dups.to_csv('duplicates.csv')"
   ]
  },
  {
   "cell_type": "code",
   "execution_count": 8,
   "metadata": {},
   "outputs": [],
   "source": [
    "# Create column based on collectionNumber\n",
    "# with the collection prefix removed\n",
    "df_merged['catalogNumber_num'] = df_merged.apply(lambda row: str(row.catalogNumber).strip(COLLECTION_PREFIX), axis=1)"
   ]
  },
  {
   "cell_type": "code",
   "execution_count": 9,
   "metadata": {},
   "outputs": [],
   "source": [
    "# Convert the column values to numerical\n",
    "# TODO find a better way to convert than 'coerce', this can introduce problems or overlook problems\n",
    "df_merged['catalogNumber_num'] = pd.to_numeric(df_merged['catalogNumber_num'], errors='coerce')"
   ]
  },
  {
   "cell_type": "code",
   "execution_count": 10,
   "metadata": {},
   "outputs": [],
   "source": [
    "# Fill NA/NaN values with 0\n",
    "df_merged['catalogNumber_num'] = df_merged['catalogNumber_num'].fillna(0)"
   ]
  },
  {
   "cell_type": "code",
   "execution_count": 11,
   "metadata": {},
   "outputs": [],
   "source": [
    "# filter bad values if needed\n",
    "# in the BRIT collection, some catalog numbers were entered incorrectly\n",
    "# with more than the correct number of digits\n",
    "df_merged_filtered = df_merged.loc[df_merged['catalogNumber_num'] < 1000000]"
   ]
  },
  {
   "cell_type": "code",
   "execution_count": 12,
   "metadata": {
    "scrolled": true
   },
   "outputs": [
    {
     "data": {
      "text/plain": [
       "376297    473535.0\n",
       "382644    457567.0\n",
       "382645    457566.0\n",
       "382646    457565.0\n",
       "382608    457563.0\n",
       "382607    457562.0\n",
       "382662    457219.0\n",
       "382663    457218.0\n",
       "382664    457217.0\n",
       "382665    457216.0\n",
       "Name: catalogNumber_num, dtype: float64"
      ]
     },
     "execution_count": 12,
     "metadata": {},
     "output_type": "execute_result"
    }
   ],
   "source": [
    "# check values of catalogNumber_num\n",
    "df_merged_filtered['catalogNumber_num'].nlargest(n=10)"
   ]
  },
  {
   "cell_type": "code",
   "execution_count": 13,
   "metadata": {},
   "outputs": [],
   "source": [
    "# create increments for graph bins\n",
    "# need to set bin size instead of bin count because \n",
    "# the filtering of each data set was making the \n",
    "# bin size change for each dataset\n",
    "cN_max = int(df_merged_filtered['catalogNumber_num'].nlargest(n=1))\n",
    "cN_bins = [n*10000 for n in range(0, int(cN_max/10000)+1)]"
   ]
  },
  {
   "cell_type": "code",
   "execution_count": 14,
   "metadata": {},
   "outputs": [
    {
     "data": {
      "image/png": "[encoded data removed]",
      "text/plain": [
       "<matplotlib.figure.Figure at 0x1a127890f0>"
      ]
     },
     "metadata": {},
     "output_type": "display_data"
    }
   ],
   "source": [
    "# Graph the results\n",
    "sns.set_context(\"notebook\")\n",
    "plt.figure(figsize=(20,8))\n",
    "\n",
    "# create a Dataframe that will be filtered for the graph\n",
    "df_plot = df_merged_filtered\n",
    "# Graph occurrences\n",
    "sns.distplot(df_plot['catalogNumber_num'], kde=False, bins=cN_bins, color='gray', label='Occurrences')\n",
    "# Find records lacking information\n",
    "# Records lacking recordedBy\n",
    "df_null_recordedBy = df_merged_filtered[df_merged_filtered['recordedBy'].isnull()]\n",
    "# Records lacking recordedBy and scientificName\n",
    "df_null_sN_and_rB = df_null_recordedBy[df_null_recordedBy['scientificName'].isnull()]\n",
    "# Graph records lacking data \n",
    "df_plot = df_null_sN_and_rB\n",
    "sns.distplot(df_plot['catalogNumber_num'], kde=False, color='red', bins=cN_bins, label='Missing Data')\n",
    "# Filter occurrences with images\n",
    "df_plot = df_merged_filtered[df_merged_filtered['accessURI'].notnull()]\n",
    "# Graph records with images\n",
    "sns.distplot(df_plot['catalogNumber_num'], kde=False, bins=cN_bins, label='With Images', hist_kws={\"histtype\": \"step\", \"linewidth\": 2,\"alpha\": 1, \"color\": \"green\"})\n",
    "# Add plot information\n",
    "plt.legend(prop={'size': 12})\n",
    "plt.title(f'{COLLECTION_CODE} - Specimen Data in DwC Archive - Generated: {DATE}')\n",
    "plt.xlabel('Catalog Numbers (prefix removed)')\n",
    "plt.ylabel('Count')\n",
    "# Write out graph image\n",
    "plt.savefig(COLLECTION_CODE + '-catalogNumber_distribution.png', dpi=400)"
   ]
  },
  {
   "cell_type": "code",
   "execution_count": null,
   "metadata": {},
   "outputs": [],
   "source": []
  }
 ],
 "metadata": {
  "kernelspec": {
   "display_name": "Python 3",
   "language": "python",
   "name": "python3"
  },
  "language_info": {
   "codemirror_mode": {
    "name": "ipython",
    "version": 3
   },
   "file_extension": ".py",
   "mimetype": "text/x-python",
   "name": "python",
   "nbconvert_exporter": "python",
   "pygments_lexer": "ipython3",
   "version": "3.6.4"
  }
 },
 "nbformat": 4,
 "nbformat_minor": 2
}
